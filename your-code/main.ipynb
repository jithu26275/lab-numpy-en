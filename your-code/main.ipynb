{
 "cells": [
  {
   "cell_type": "markdown",
   "metadata": {},
   "source": [
    "# Lab | Numpy Deep Dive"
   ]
  },
  {
   "cell_type": "markdown",
   "metadata": {},
   "source": [
    "### 1. Import the NUMPY package under the name np.\n"
   ]
  },
  {
   "cell_type": "code",
   "execution_count": 1,
   "metadata": {},
   "outputs": [],
   "source": [
    "### [your code here]\n",
    "import numpy as np"
   ]
  },
  {
   "cell_type": "markdown",
   "metadata": {},
   "source": [
    "\n",
    "\n",
    "### 2. Print the NUMPY version and the configuration.\n"
   ]
  },
  {
   "cell_type": "code",
   "execution_count": 58,
   "metadata": {},
   "outputs": [
    {
     "name": "stdout",
     "output_type": "stream",
     "text": [
      "NumPy Version: 1.22.2\n"
     ]
    }
   ],
   "source": [
    "### [your code here]\n",
    "print(\"NumPy Version:\", np.__version__)"
   ]
  },
  {
   "cell_type": "markdown",
   "metadata": {},
   "source": [
    "### 3. Generate a 2x3x5 3-dimensional array with random values. Assign the array to variable \"a\"\n",
    "Challenge: there are at least three easy ways that use numpy to generate random arrays. How many ways can you find?\n"
   ]
  },
  {
   "cell_type": "code",
   "execution_count": null,
   "metadata": {},
   "outputs": [],
   "source": [
    "### [your code here]\n",
    "a = np.random.random([2,3,5])\n",
    "\n",
    "# a = np.random.randint([2,3,5])"
   ]
  },
  {
   "cell_type": "markdown",
   "metadata": {},
   "source": [
    "\n",
    "### 4. Print a.\n"
   ]
  },
  {
   "cell_type": "code",
   "execution_count": 3,
   "metadata": {},
   "outputs": [
    {
     "data": {
      "text/plain": [
       "array([[[0.58777403, 0.81901867, 0.79995402, 0.36883729, 0.54473152],\n",
       "        [0.69323313, 0.08158352, 0.68490996, 0.68223402, 0.97099503],\n",
       "        [0.66610929, 0.41032282, 0.68056279, 0.0754255 , 0.54957704]],\n",
       "\n",
       "       [[0.07320122, 0.55599524, 0.11609004, 0.80326537, 0.0238672 ],\n",
       "        [0.95505512, 0.47969781, 0.55986998, 0.67040355, 0.05550204],\n",
       "        [0.62202502, 0.64860039, 0.27081371, 0.71079485, 0.72934747]]])"
      ]
     },
     "execution_count": 3,
     "metadata": {},
     "output_type": "execute_result"
    }
   ],
   "source": [
    "### [your code here]\n",
    "a"
   ]
  },
  {
   "cell_type": "markdown",
   "metadata": {},
   "source": [
    "### 5. Create a 5x2x3 3-dimensional array with all values equaling 1.\n",
    "### Assign the array to variable \"b\"\n"
   ]
  },
  {
   "cell_type": "code",
   "execution_count": 4,
   "metadata": {},
   "outputs": [],
   "source": [
    "### [your code here]\n",
    "b = np.ones([5,2,3])"
   ]
  },
  {
   "cell_type": "markdown",
   "metadata": {},
   "source": [
    "\n",
    "### 6. Print b.\n"
   ]
  },
  {
   "cell_type": "code",
   "execution_count": 5,
   "metadata": {},
   "outputs": [
    {
     "data": {
      "text/plain": [
       "array([[[1., 1., 1.],\n",
       "        [1., 1., 1.]],\n",
       "\n",
       "       [[1., 1., 1.],\n",
       "        [1., 1., 1.]],\n",
       "\n",
       "       [[1., 1., 1.],\n",
       "        [1., 1., 1.]],\n",
       "\n",
       "       [[1., 1., 1.],\n",
       "        [1., 1., 1.]],\n",
       "\n",
       "       [[1., 1., 1.],\n",
       "        [1., 1., 1.]]])"
      ]
     },
     "execution_count": 5,
     "metadata": {},
     "output_type": "execute_result"
    }
   ],
   "source": [
    "### [your code here]\n",
    "b"
   ]
  },
  {
   "cell_type": "markdown",
   "metadata": {},
   "source": [
    "\n",
    "### 7. Do a and b have the same size? How do you prove that in Python code?\n"
   ]
  },
  {
   "cell_type": "code",
   "execution_count": 7,
   "metadata": {},
   "outputs": [
    {
     "name": "stdout",
     "output_type": "stream",
     "text": [
      "True\n"
     ]
    }
   ],
   "source": [
    "### [your code here]\n",
    "AB_size = (a.size == b.size)\n",
    "print(AB_size)"
   ]
  },
  {
   "cell_type": "markdown",
   "metadata": {},
   "source": [
    "\n",
    "### 8. Are you able to add a and b? Why or why not?\n"
   ]
  },
  {
   "cell_type": "code",
   "execution_count": null,
   "metadata": {},
   "outputs": [
    {
     "ename": "ValueError",
     "evalue": "operands could not be broadcast together with shapes (2,3,5) (5,2,3) ",
     "output_type": "error",
     "traceback": [
      "\u001b[1;31m---------------------------------------------------------------------------\u001b[0m",
      "\u001b[1;31mValueError\u001b[0m                                Traceback (most recent call last)",
      "Cell \u001b[1;32mIn[8], line 2\u001b[0m\n\u001b[0;32m      1\u001b[0m \u001b[38;5;66;03m### [your code here]\u001b[39;00m\n\u001b[1;32m----> 2\u001b[0m \u001b[43mnp\u001b[49m\u001b[38;5;241;43m.\u001b[39;49m\u001b[43madd\u001b[49m\u001b[43m(\u001b[49m\u001b[43ma\u001b[49m\u001b[43m,\u001b[49m\u001b[43mb\u001b[49m\u001b[43m)\u001b[49m\n",
      "\u001b[1;31mValueError\u001b[0m: operands could not be broadcast together with shapes (2,3,5) (5,2,3) "
     ]
    }
   ],
   "source": [
    "### [your code here]\n",
    "np.add(a,b)\n",
    "# the arrays are having different shapes, so they are not suitable for adding "
   ]
  },
  {
   "cell_type": "markdown",
   "metadata": {},
   "source": [
    "\n",
    "\n",
    "### 9. Transpose b so that it has the same structure of a (i.e. become a 2x3x5 array). Assign the transposed array to varialbe \"c\".\n"
   ]
  },
  {
   "cell_type": "code",
   "execution_count": 22,
   "metadata": {},
   "outputs": [],
   "source": [
    "### [your code here]\n",
    "transpose_b = np.transpose(b)"
   ]
  },
  {
   "cell_type": "code",
   "execution_count": 23,
   "metadata": {},
   "outputs": [
    {
     "data": {
      "text/plain": [
       "(2, 3, 5)"
      ]
     },
     "execution_count": 23,
     "metadata": {},
     "output_type": "execute_result"
    }
   ],
   "source": [
    "c = np.reshape(transpose_b, (2,3,5))\n",
    "c.shape"
   ]
  },
  {
   "cell_type": "markdown",
   "metadata": {},
   "source": [
    "\n",
    "### 10. Try to add a and c. Now it should work. Assign the sum to variable \"d\". But why does it work now?\n"
   ]
  },
  {
   "cell_type": "code",
   "execution_count": null,
   "metadata": {},
   "outputs": [
    {
     "data": {
      "text/plain": [
       "array([[[1.58777403, 1.81901867, 1.79995402, 1.36883729, 1.54473152],\n",
       "        [1.69323313, 1.08158352, 1.68490996, 1.68223402, 1.97099503],\n",
       "        [1.66610929, 1.41032282, 1.68056279, 1.0754255 , 1.54957704]],\n",
       "\n",
       "       [[1.07320122, 1.55599524, 1.11609004, 1.80326537, 1.0238672 ],\n",
       "        [1.95505512, 1.47969781, 1.55986998, 1.67040355, 1.05550204],\n",
       "        [1.62202502, 1.64860039, 1.27081371, 1.71079485, 1.72934747]]])"
      ]
     },
     "execution_count": 26,
     "metadata": {},
     "output_type": "execute_result"
    }
   ],
   "source": [
    "### [your code here]\n",
    "d = np.add(a,c)\n",
    "d \n",
    "# it works now because the shape of the array b have be transposed and reshaped to the shape of a "
   ]
  },
  {
   "cell_type": "markdown",
   "metadata": {},
   "source": [
    "\n",
    "### 11. Print a and d. Notice the difference and relation of the two array in terms of the values? Explain.\n"
   ]
  },
  {
   "cell_type": "code",
   "execution_count": null,
   "metadata": {},
   "outputs": [
    {
     "name": "stdout",
     "output_type": "stream",
     "text": [
      "A = [[[0.58777403 0.81901867 0.79995402 0.36883729 0.54473152]\n",
      "  [0.69323313 0.08158352 0.68490996 0.68223402 0.97099503]\n",
      "  [0.66610929 0.41032282 0.68056279 0.0754255  0.54957704]]\n",
      "\n",
      " [[0.07320122 0.55599524 0.11609004 0.80326537 0.0238672 ]\n",
      "  [0.95505512 0.47969781 0.55986998 0.67040355 0.05550204]\n",
      "  [0.62202502 0.64860039 0.27081371 0.71079485 0.72934747]]]\n",
      "D = [[[1.58777403 1.81901867 1.79995402 1.36883729 1.54473152]\n",
      "  [1.69323313 1.08158352 1.68490996 1.68223402 1.97099503]\n",
      "  [1.66610929 1.41032282 1.68056279 1.0754255  1.54957704]]\n",
      "\n",
      " [[1.07320122 1.55599524 1.11609004 1.80326537 1.0238672 ]\n",
      "  [1.95505512 1.47969781 1.55986998 1.67040355 1.05550204]\n",
      "  [1.62202502 1.64860039 1.27081371 1.71079485 1.72934747]]]\n"
     ]
    }
   ],
   "source": [
    "### [your code here]\n",
    "print(f\"A = {a}\")\n",
    "print(f\"D = {d}\")\n",
    "# the values in a are between 0-1 and in d all the values of a are been increased and stored in d"
   ]
  },
  {
   "cell_type": "markdown",
   "metadata": {},
   "source": [
    "\n",
    "### 12. Multiply a and c. Assign the result to e.\n"
   ]
  },
  {
   "cell_type": "code",
   "execution_count": 36,
   "metadata": {},
   "outputs": [
    {
     "data": {
      "text/plain": [
       "array([[[0.58777403, 0.81901867, 0.79995402, 0.36883729, 0.54473152],\n",
       "        [0.69323313, 0.08158352, 0.68490996, 0.68223402, 0.97099503],\n",
       "        [0.66610929, 0.41032282, 0.68056279, 0.0754255 , 0.54957704]],\n",
       "\n",
       "       [[0.07320122, 0.55599524, 0.11609004, 0.80326537, 0.0238672 ],\n",
       "        [0.95505512, 0.47969781, 0.55986998, 0.67040355, 0.05550204],\n",
       "        [0.62202502, 0.64860039, 0.27081371, 0.71079485, 0.72934747]]])"
      ]
     },
     "execution_count": 36,
     "metadata": {},
     "output_type": "execute_result"
    }
   ],
   "source": [
    "### [your code here]\n",
    "e = np.multiply(a,c)\n",
    "e\n"
   ]
  },
  {
   "cell_type": "markdown",
   "metadata": {},
   "source": [
    "\n",
    "\n",
    "### 13. Does e equal to a? Why or why not?\n"
   ]
  },
  {
   "cell_type": "code",
   "execution_count": null,
   "metadata": {},
   "outputs": [
    {
     "data": {
      "text/plain": [
       "array([[[ True,  True,  True,  True,  True],\n",
       "        [ True,  True,  True,  True,  True],\n",
       "        [ True,  True,  True,  True,  True]],\n",
       "\n",
       "       [[ True,  True,  True,  True,  True],\n",
       "        [ True,  True,  True,  True,  True],\n",
       "        [ True,  True,  True,  True,  True]]])"
      ]
     },
     "execution_count": 39,
     "metadata": {},
     "output_type": "execute_result"
    }
   ],
   "source": [
    "### [your code here]\n",
    "check = (e == a)\n",
    "check\n",
    "# its equal because the values were multiplied to array that comtains all value in 1 so anything multiplied to 1 will be same \n"
   ]
  },
  {
   "cell_type": "markdown",
   "metadata": {},
   "source": [
    "\n",
    "\n",
    "### 14. Identify the max, min, and mean values in d. Assign those values to variables \"d_max\", \"d_min\", and \"d_mean\"\n"
   ]
  },
  {
   "cell_type": "code",
   "execution_count": 51,
   "metadata": {},
   "outputs": [],
   "source": [
    "### [your code here]\n",
    "d_max = np.max(d)\n",
    "d_min = np.min(d)\n",
    "d_mean = np.mean(d)"
   ]
  },
  {
   "cell_type": "markdown",
   "metadata": {},
   "source": [
    "\n",
    "### 15. Now we want to label the values in d. First create an empty array \"f\" with the same shape (i.e. 2x3x5) as d using `np.empty`.\n"
   ]
  },
  {
   "cell_type": "code",
   "execution_count": 52,
   "metadata": {},
   "outputs": [
    {
     "data": {
      "text/plain": [
       "array([[[0.58777403, 0.81901867, 0.79995402, 0.36883729, 0.54473152],\n",
       "        [0.69323313, 0.08158352, 0.68490996, 0.68223402, 0.97099503],\n",
       "        [0.66610929, 0.41032282, 0.68056279, 0.0754255 , 0.54957704]],\n",
       "\n",
       "       [[0.07320122, 0.55599524, 0.11609004, 0.80326537, 0.0238672 ],\n",
       "        [0.95505512, 0.47969781, 0.55986998, 0.67040355, 0.05550204],\n",
       "        [0.62202502, 0.64860039, 0.27081371, 0.71079485, 0.72934747]]])"
      ]
     },
     "execution_count": 52,
     "metadata": {},
     "output_type": "execute_result"
    }
   ],
   "source": [
    "### [your code here]\n",
    "f = np.empty([2, 3, 5])\n",
    "f"
   ]
  },
  {
   "cell_type": "markdown",
   "metadata": {},
   "source": [
    "\n",
    "\n",
    "\n",
    "### 16. Populate the values in f. For each value in d, if it's larger than d_min but smaller than d_mean, assign 25 to the corresponding value in f.\n",
    "If a value in d is larger than d_mean but smaller than d_max, assign 75 to the corresponding value in f.\n",
    "If a value equals to d_mean, assign 50 to the corresponding value in f.\n",
    "Assign 0 to the corresponding value(s) in f for d_min in d.\n",
    "Assign 100 to the corresponding value(s) in f for d_max in d.\n",
    "In the end, f should have only the following values: 0, 25, 50, 75, and 100.\n",
    "Note: you don't have to use Numpy in this question.\n",
    "\n"
   ]
  },
  {
   "cell_type": "code",
   "execution_count": 53,
   "metadata": {},
   "outputs": [],
   "source": [
    "### [your code here]\n",
    "for i in range(d.shape[0]):\n",
    "    for j in range(d.shape[1]):\n",
    "        for k in range(d.shape[2]):\n",
    "            value = d[i][j][k]\n",
    "            if value == d_min:\n",
    "                f[i][j][k] = 0\n",
    "            elif value == d_max:\n",
    "                f[i][j][k] = 100\n",
    "            elif value == d_mean:\n",
    "                f[i][j][k] = 50\n",
    "            elif d_min < value < d_mean:\n",
    "                f[i][j][k] = 25\n",
    "            elif d_mean < value < d_max:\n",
    "                f[i][j][k] = 75"
   ]
  },
  {
   "cell_type": "markdown",
   "metadata": {},
   "source": [
    "\n",
    "\n",
    "\n",
    "\n",
    "### 17. Print d and f. Do you have your expected f?\n",
    "For instance, if your d is:\n",
    "array([[[1.85836099, 1.67064465, 1.62576044, 1.40243961, 1.88454931],\n",
    "        [1.75354326, 1.69403643, 1.36729252, 1.61415071, 1.12104981],\n",
    "        [1.72201435, 1.1862918 , 1.87078449, 1.7726778 , 1.88180042]],\n",
    "\n",
    "       [[1.44747908, 1.31673383, 1.02000951, 1.52218947, 1.97066381],\n",
    "        [1.79129243, 1.74983003, 1.96028037, 1.85166831, 1.65450881],\n",
    "        [1.18068344, 1.9587381 , 1.00656599, 1.93402165, 1.73514584]]])\n",
    "\n",
    "Your f should be:\n",
    "array([[[ 75.,  75.,  75.,  25.,  75.],\n",
    "        [ 75.,  75.,  25.,  25.,  25.],\n",
    "        [ 75.,  25.,  75.,  75.,  75.]],\n",
    "\n",
    "       [[ 25.,  25.,  25.,  25., 100.],\n",
    "        [ 75.,  75.,  75.,  75.,  75.],\n",
    "        [ 25.,  75.,   0.,  75.,  75.]]])\n",
    "\n"
   ]
  },
  {
   "cell_type": "code",
   "execution_count": 54,
   "metadata": {},
   "outputs": [
    {
     "name": "stdout",
     "output_type": "stream",
     "text": [
      "[[[1.58777403 1.81901867 1.79995402 1.36883729 1.54473152]\n",
      "  [1.69323313 1.08158352 1.68490996 1.68223402 1.97099503]\n",
      "  [1.66610929 1.41032282 1.68056279 1.0754255  1.54957704]]\n",
      "\n",
      " [[1.07320122 1.55599524 1.11609004 1.80326537 1.0238672 ]\n",
      "  [1.95505512 1.47969781 1.55986998 1.67040355 1.05550204]\n",
      "  [1.62202502 1.64860039 1.27081371 1.71079485 1.72934747]]]\n",
      "[[[ 75.  75.  75.  25.  75.]\n",
      "  [ 75.  25.  75.  75. 100.]\n",
      "  [ 75.  25.  75.  25.  75.]]\n",
      "\n",
      " [[ 25.  75.  25.  75.   0.]\n",
      "  [ 75.  25.  75.  75.  25.]\n",
      "  [ 75.  75.  25.  75.  75.]]]\n"
     ]
    }
   ],
   "source": [
    "### [your code here]\n",
    "print(d)\n",
    "print(f)"
   ]
  },
  {
   "cell_type": "markdown",
   "metadata": {},
   "source": [
    "### 18. Bonus question: instead of using numbers (i.e. 0, 25, 50, 75, and 100), how to use string values \n",
    "(\"A\", \"B\", \"C\", \"D\", and \"E\") to label the array elements? You are expecting the result to be:\n",
    "array([[[ 'D',  'D',  'D',  'B',  'D'],\n",
    "        [ 'D',  'D',  'B',  'B',  'B'],\n",
    "        [ 'D',  'B',  'D',  'D',  'D']],\n",
    "\n",
    "       [[ 'B',  'B',  'B',  'B',  'E'],\n",
    "        [ 'D',  'D',  'D',  'D',  'D'],\n",
    "        [ 'B',  'D',   'A',  'D', 'D']]])\n",
    "Again, you don't need Numpy in this question."
   ]
  },
  {
   "cell_type": "code",
   "execution_count": 56,
   "metadata": {},
   "outputs": [],
   "source": [
    "f = np.empty(d.shape, dtype=str)  # create empty string array\n",
    "\n",
    "for i in range(d.shape[0]):\n",
    "    for j in range(d.shape[1]):\n",
    "        for k in range(d.shape[2]):\n",
    "            value = d[i][j][k]\n",
    "            if value == d_min:\n",
    "                f[i][j][k] = 'A'\n",
    "            elif value == d_max:\n",
    "                f[i][j][k] = 'E'\n",
    "            elif value == d_mean:\n",
    "                f[i][j][k] = 'C'\n",
    "            elif d_min < value < d_mean:\n",
    "                f[i][j][k] = 'B'\n",
    "            elif d_mean < value < d_max:\n",
    "                f[i][j][k] = 'D'\n"
   ]
  },
  {
   "cell_type": "code",
   "execution_count": 57,
   "metadata": {},
   "outputs": [
    {
     "data": {
      "text/plain": [
       "array([[['D', 'D', 'D', 'B', 'D'],\n",
       "        ['D', 'B', 'D', 'D', 'E'],\n",
       "        ['D', 'B', 'D', 'B', 'D']],\n",
       "\n",
       "       [['B', 'D', 'B', 'D', 'A'],\n",
       "        ['D', 'B', 'D', 'D', 'B'],\n",
       "        ['D', 'D', 'B', 'D', 'D']]], dtype='<U1')"
      ]
     },
     "execution_count": 57,
     "metadata": {},
     "output_type": "execute_result"
    }
   ],
   "source": [
    "f"
   ]
  },
  {
   "cell_type": "code",
   "execution_count": null,
   "metadata": {},
   "outputs": [],
   "source": []
  }
 ],
 "metadata": {
  "kernelspec": {
   "display_name": "Python 3",
   "language": "python",
   "name": "python3"
  },
  "language_info": {
   "codemirror_mode": {
    "name": "ipython",
    "version": 3
   },
   "file_extension": ".py",
   "mimetype": "text/x-python",
   "name": "python",
   "nbconvert_exporter": "python",
   "pygments_lexer": "ipython3",
   "version": "3.8.7"
  }
 },
 "nbformat": 4,
 "nbformat_minor": 2
}
